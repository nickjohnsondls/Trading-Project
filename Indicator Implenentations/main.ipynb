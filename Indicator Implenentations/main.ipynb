{
 "metadata": {
  "language_info": {
   "codemirror_mode": {
    "name": "ipython",
    "version": 3
   },
   "file_extension": ".py",
   "mimetype": "text/x-python",
   "name": "python",
   "nbconvert_exporter": "python",
   "pygments_lexer": "ipython3",
   "version": "3.12.0-final"
  },
  "orig_nbformat": 2,
  "kernelspec": {
   "name": "python3",
   "display_name": "Python 3.12.0 64-bit",
   "metadata": {
    "interpreter": {
     "hash": "f87418f156d9d419d5850b21e48359bccd7eaba550e253be086747c4436a3334"
    }
   }
  }
 },
 "nbformat": 4,
 "nbformat_minor": 2,
 "cells": [
  {
   "cell_type": "code",
   "execution_count": 1,
   "metadata": {},
   "outputs": [
    {
     "output_type": "error",
     "ename": "ModuleNotFoundError",
     "evalue": "No module named 'runprog'",
     "traceback": [
      "\u001b[0;31m---------------------------------------------------------------------------\u001b[0m",
      "\u001b[0;31mModuleNotFoundError\u001b[0m                       Traceback (most recent call last)",
      "Cell \u001b[0;32mIn[1], line 1\u001b[0m\n\u001b[0;32m----> 1\u001b[0m \u001b[38;5;28;01mfrom\u001b[39;00m \u001b[38;5;21;01mrunprog\u001b[39;00m \u001b[38;5;28;01mimport\u001b[39;00m run_strategy\n\u001b[1;32m      2\u001b[0m \u001b[38;5;28;01mfrom\u001b[39;00m \u001b[38;5;21;01mstrategies\u001b[39;00m \u001b[38;5;28;01mimport\u001b[39;00m SMAStrategy, RSIStrategy, StochStrategy\n\u001b[1;32m      3\u001b[0m \u001b[38;5;28;01mimport\u001b[39;00m \u001b[38;5;21;01mdatetime\u001b[39;00m \u001b[38;5;28;01mas\u001b[39;00m \u001b[38;5;21;01mdt\u001b[39;00m\n",
      "\u001b[0;31mModuleNotFoundError\u001b[0m: No module named 'runprog'"
     ]
    }
   ],
   "source": [
    "from runprog import run_strategy\n",
    "from strategies import SMAStrategy, RSIStrategy, StochStrategy\n",
    "import datetime as dt\n",
    "import yfinance as yf"
   ]
  },
  {
   "cell_type": "code",
   "execution_count": 15,
   "metadata": {},
   "outputs": [
    {
     "output_type": "stream",
     "name": "stdout",
     "text": [
      "[*********************100%%**********************]  1 of 1 completed\n"
     ]
    }
   ],
   "source": [
    "# Download historical data for TSLA\n",
    "ticker = \"DASH\"\n",
    "start_date = dt.datetime(2021, 1, 1)\n",
    "end_date = dt.datetime(2024, 1, 1)\n",
    "data = yf.download(ticker, start=start_date, end=end_date)\n",
    "initial_cash = 3000000\n"
   ]
  },
  {
   "cell_type": "code",
   "execution_count": 16,
   "metadata": {},
   "outputs": [],
   "source": [
    "# Save data to CSV to use with PyAlgoTrade\n",
    "csv_file = 'STOCK_data.csv'  # Adjust path as needed\n",
    "data.to_csv(csv_file)"
   ]
  },
  {
   "cell_type": "code",
   "execution_count": 1,
   "metadata": {},
   "outputs": [],
   "source": [
    "# Parameters for each strategy\n",
    "fast_ma_period = 50\n",
    "slow_ma_period = 200\n",
    "rsi_period = 14\n",
    "fastKPeriod = 14   \n",
    "slowDPeriod = 3 "
   ]
  },
  {
   "cell_type": "code",
   "execution_count": 2,
   "metadata": {},
   "outputs": [
    {
     "output_type": "error",
     "ename": "NameError",
     "evalue": "name 'run_strategy' is not defined",
     "traceback": [
      "\u001b[0;31m---------------------------------------------------------------------------\u001b[0m",
      "\u001b[0;31mNameError\u001b[0m                                 Traceback (most recent call last)",
      "Cell \u001b[0;32mIn[2], line 2\u001b[0m\n\u001b[1;32m      1\u001b[0m \u001b[38;5;66;03m#Run three seperate strategies \u001b[39;00m\n\u001b[0;32m----> 2\u001b[0m \u001b[43mrun_strategy\u001b[49m(SMAStrategy, csv_file, ticker, initial_cash, fast_ma_period, slow_ma_period, ticker)\n\u001b[1;32m      3\u001b[0m run_strategy(RSIStrategy, csv_file, ticker, initial_cash, rsi_period, ticker)\n\u001b[1;32m      4\u001b[0m run_strategy(StochStrategy, csv_file, ticker, initial_cash, fastKPeriod, slowDPeriod, ticker)\n",
      "\u001b[0;31mNameError\u001b[0m: name 'run_strategy' is not defined"
     ]
    }
   ],
   "source": [
    "#Run three seperate strategies \n",
    "run_strategy(SMAStrategy, csv_file, ticker, initial_cash, fast_ma_period, slow_ma_period, ticker)\n",
    "run_strategy(RSIStrategy, csv_file, ticker, initial_cash, rsi_period, ticker)\n",
    "run_strategy(StochStrategy, csv_file, ticker, initial_cash, fastKPeriod, slowDPeriod, ticker)"
   ]
  },
  {
   "cell_type": "code",
   "execution_count": 19,
   "metadata": {},
   "outputs": [],
   "source": [
    "#Put plots to html files and combine them into one html \n",
    "plot_html = f\"<h2>SMA Plot</h2><img src='plot.png' style='width:35%;'>\"\n",
    "plot2_html = f\"<h2>RSI Plot</h2><img src='plot2.png' style='width:35%;'>\"\n",
    "plot3_html = f\"<h2>OS Plot</h2><img src='plot3.png' style='width:35%;'>\"\n",
    "combined_html = f\"<br>{plot_html}<br><br>{plot2_html}<br><br>{plot3_html}<br>\"\n",
    "    \n",
    "# Save the combined HTML to a file\n",
    "html_filename = 'combined_trade_signals.html'\n",
    "with open(html_filename, 'w') as f:\n",
    "    f.write(combined_html)"
   ]
  }
 ]
}